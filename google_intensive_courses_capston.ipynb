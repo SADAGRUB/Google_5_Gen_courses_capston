{
 "cells": [
  {
   "cell_type": "code",
   "execution_count": 1,
   "id": "43b936af-2f86-4c26-882b-e8b3bf1a1f0f",
   "metadata": {},
   "outputs": [],
   "source": [
    "from google import genai\n",
    "from google.genai import types"
   ]
  },
  {
   "cell_type": "code",
   "execution_count": 2,
   "id": "9e1571d8-4a94-4e38-9b8c-b5f85f456542",
   "metadata": {},
   "outputs": [],
   "source": [
    "from typing import Annotated\n",
    "from typing_extensions import TypedDict\n",
    "from langgraph.graph.message import add_messages\n"
   ]
  },
  {
   "cell_type": "code",
   "execution_count": 3,
   "id": "1229bf04-3b56-442e-9129-d610ceaa601b",
   "metadata": {},
   "outputs": [],
   "source": [
    "\n",
    "class OrderState(TypedDict):\n",
    "    \"\"\"State representing the customer's order conversation.\"\"\"\n",
    "\n",
    "    # The chat conversation. This preserves the conversation history\n",
    "    # between nodes. The `add_messages` annotation indicates to LangGraph\n",
    "    # that state is updated by appending returned messages, not replacing\n",
    "    # them.\n",
    "    messages: Annotated[list, add_messages]\n",
    "\n",
    "    # The customer's in-progress order.\n",
    "    order: list[str]\n",
    "\n",
    "    # Flag indicating that the order is placed and completed.\n",
    "    finished: bool\n",
    "\n",
    "\n",
    "# The system instruction defines how the chatbot is expected to behave and includes\n",
    "# rules for when to call different functions, as well as rules for the conversation, such\n",
    "# as tone and what is permitted for discussion.\n",
    "BARISTABOT_SYSINT = (\n",
    "    \"system\",  # 'system' indicates the message is a system instruction.\n",
    "    \"You are a BaristaBot, an interactive cafe ordering system. A human will talk to you about the \"\n",
    "    \"available products you have and you will answer any questions about menu items (and only about \"\n",
    "    \"menu items - no off-topic discussion, but you can chat about the products and their history). \"\n",
    "    \"The customer will place an order for 1 or more items from the menu, which you will structure \"\n",
    "    \"and send to the ordering system after confirming the order with the human. \"\n",
    "    \"\\n\\n\"\n",
    "    \"Add items to the customer's order with add_to_order, and reset the order with clear_order. \"\n",
    "    \"To see the contents of the order so far, call get_order (this is shown to you, not the user) \"\n",
    "    \"Always confirm_order with the user (double-check) before calling place_order. Calling confirm_order will \"\n",
    "    \"display the order items to the user and returns their response to seeing the list. Their response may contain modifications. \"\n",
    "    \"Always verify and respond with drink and modifier names from the MENU before adding them to the order. \"\n",
    "    \"If you are unsure a drink or modifier matches those on the MENU, ask a question to clarify or redirect. \"\n",
    "    \"You only have the modifiers listed on the menu. \"\n",
    "    \"Once the customer has finished ordering items, Call confirm_order to ensure it is correct then make \"\n",
    "    \"any necessary updates and then call place_order. Once place_order has returned, thank the user and \"\n",
    "    \"say goodbye!\"\n",
    "    \"\\n\\n\"\n",
    "    \"If any of the tools are unavailable, you can break the fourth wall and tell the user that \"\n",
    "    \"they have not implemented them yet and should keep reading to do so.\",\n",
    ")\n",
    "\n",
    "# This is the message with which the system opens the conversation.\n",
    "WELCOME_MSG = \"Welcome to the BaristaBot cafe. Type `q` to quit. How may I serve you today?\""
   ]
  },
  {
   "cell_type": "code",
   "execution_count": 4,
   "id": "b48fa636-a8ca-40a6-a7c6-52128d03647e",
   "metadata": {},
   "outputs": [],
   "source": [
    "from langgraph.graph import StateGraph, START, END\n",
    "\n",
    "# Try using different models. The Gemini 2.0 flash model is highly\n",
    "# capable, great with tools, and has a generous free tier. If you\n",
    "# try the older 1.5 models, note that the `pro` models are better at\n",
    "# complex multi-tool cases like this, but the `flash` models are\n",
    "# faster and have more free quota.\n",
    "# Check out the features and quota differences here:\n",
    "#  - https://ai.google.dev/gemini-api/docs/models/gemini\n",
    "llm = \"gemini-2.0-flash\"\n",
    "\n",
    "\n",
    "def chatbot(state: OrderState) -> OrderState:\n",
    "    \"\"\"The chatbot itself. A simple wrapper around the model's own chat interface.\"\"\"\n",
    "    message_history = [BARISTABOT_SYSINT] + state[\"messages\"]\n",
    "    return {\"messages\": [llm.invoke(message_history)]}\n",
    "\n",
    "\n",
    "# Set up the initial graph based on our state definition.\n",
    "graph_builder = StateGraph(OrderState)\n",
    "\n",
    "# Add the chatbot function to the app graph as a node called \"chatbot\".\n",
    "graph_builder.add_node(\"chatbot\", chatbot)\n",
    "\n",
    "# Define the chatbot node as the app entrypoint.\n",
    "graph_builder.add_edge(START, \"chatbot\")\n",
    "\n",
    "chat_graph = graph_builder.compile()"
   ]
  },
  {
   "cell_type": "code",
   "execution_count": 5,
   "id": "3c05be15-a68d-47fa-9f5f-35559222932c",
   "metadata": {},
   "outputs": [
    {
     "data": {
      "image/png": "[encoded data removed]",
      "text/plain": [
       "<IPython.core.display.Image object>"
      ]
     },
     "execution_count": 5,
     "metadata": {},
     "output_type": "execute_result"
    }
   ],
   "source": [
    "from IPython.display import Image, display\n",
    "\n",
    "Image(chat_graph.get_graph().draw_mermaid_png())"
   ]
  },
  {
   "cell_type": "code",
   "execution_count": 6,
   "id": "2d4d7f39-8bf1-42ff-ba29-720c3866fd79",
   "metadata": {},
   "outputs": [],
   "source": [
    "# add an human node to the graph\n",
    "def human_node(state: OrderState) -> OrderState:\n",
    "    \"\"\"The human node. This is a placeholder for the human input.\"\"\"\n",
    "    # This is a placeholder. In a real application, this would be replaced\n",
    "    # with a function that gets input from the user.\n",
    "    user_input = input(\"User: \")\n",
    "    state[\"messages\"].append(user_input)\n",
    "    return state | {\"messages\": [user_input]}\n",
    "\n",
    "def mariachatbot(state: OrderState) -> OrderState:\n",
    "    \"\"\"The chatbot itself. A simple wrapper around the model's own chat interface.\"\"\"\n",
    "    message_history = [BARISTABOT_SYSINT] + state[\"messages\"]\n",
    "    if state[\"messages\"]:\n",
    "        new_output = llm.invoke(message_history)\n",
    "        return {\"messages\": [new_output]}\n",
    "    else:\n",
    "        new_output = llm.invoke([WELCOME_MSG])\n",
    "    return state | {\"messages\": [new_output]}\n",
    "\n",
    "# start building the graph \n",
    "builder_graph = StateGraph(OrderState)\n",
    "# add chatbot aand human node\n",
    "\n",
    "builder_graph.add_node(\"chatbot\", mariachatbot)\n",
    "builder_graph.add_node(\"human\", human_node)\n",
    "\n",
    "# start with chatbot again.\n",
    "builder_graph.add_edge(START, \"chatbot\")\n",
    "\n",
    "# The chatbot will always go to the human next.\n",
    "builder_graph.add_edge(\"chatbot\", \"human\");\n",
    "        "
   ]
  },
  {
   "cell_type": "code",
   "execution_count": 7,
   "id": "fccda3ce-5fbf-4377-8032-3279c46c9203",
   "metadata": {},
   "outputs": [
    {
     "data": {
      "image/png": "[encoded data removed]",
      "text/plain": [
       "<IPython.core.display.Image object>"
      ]
     },
     "execution_count": 7,
     "metadata": {},
     "output_type": "execute_result"
    }
   ],
   "source": [
    "from typing import Literal\n",
    "\n",
    "\n",
    "def maybe_exit_human_node(state: OrderState) -> Literal[\"chatbot\", \"__end__\"]:\n",
    "    \"\"\"Route to the chatbot, unless it looks like the user is exiting.\"\"\"\n",
    "    if state.get(\"finished\", False):\n",
    "        return END\n",
    "    else:\n",
    "        return \"chatbot\"\n",
    "\n",
    "\n",
    "builder_graph.add_conditional_edges(\"human\", maybe_exit_human_node)\n",
    "\n",
    "chat_with_human_graph = builder_graph.compile()\n",
    "\n",
    "Image(chat_with_human_graph.get_graph().draw_mermaid_png())"
   ]
  },
  {
   "cell_type": "code",
   "execution_count": 8,
   "id": "2486b106-8dfc-428e-80b3-ab38e21bce62",
   "metadata": {},
   "outputs": [],
   "source": [
    "from langchain_core.tools import tool\n",
    "\n",
    "#define menu in hardcoded way\n",
    "@tool\n",
    "def get_menu() -> str:\n",
    "    \"\"\"Get the menu items.\"\"\"\n",
    "    return (\n",
    "        \"The menu includes:\\n\"\n",
    "        \"1. Espresso\\n\"\n",
    "        \"2. Americano\\n\"\n",
    "        \"3. Latte\\n\"\n",
    "        \"4. Cappuccino\\n\"\n",
    "        \"5. Mocha\\n\"\n",
    "        \"6. Macchiato\\n\"\n",
    "        \"7. Flat White\\n\"\n",
    "        \"8. Cold Brew\\n\"\n",
    "        \"9. Nitro Cold Brew\\n\"\n",
    "        \"10. Iced Coffee\\n\"\n",
    "    )\n",
    "# "
   ]
  },
  {
   "cell_type": "code",
   "execution_count": 9,
   "id": "b815149b-a8f1-440d-8b55-47885b70e49d",
   "metadata": {},
   "outputs": [
    {
     "ename": "AttributeError",
     "evalue": "'str' object has no attribute 'bind_tools'",
     "output_type": "error",
     "traceback": [
      "\u001b[31m---------------------------------------------------------------------------\u001b[39m",
      "\u001b[31mAttributeError\u001b[39m                            Traceback (most recent call last)",
      "\u001b[36mCell\u001b[39m\u001b[36m \u001b[39m\u001b[32mIn[9]\u001b[39m\u001b[32m, line 8\u001b[39m\n\u001b[32m      5\u001b[39m tool_node = ToolNode(tools)\n\u001b[32m      7\u001b[39m \u001b[38;5;66;03m# Attach the tools to the model so that it knows what it can call.\u001b[39;00m\n\u001b[32m----> \u001b[39m\u001b[32m8\u001b[39m llm_with_tools = \u001b[43mllm\u001b[49m\u001b[43m.\u001b[49m\u001b[43mbind_tools\u001b[49m(tools)\n\u001b[32m     10\u001b[39m \u001b[38;5;28;01mdef\u001b[39;00m\u001b[38;5;250m \u001b[39m\u001b[34mmaybe_route_to_tools\u001b[39m(state: OrderState) -> \u001b[38;5;28mstr\u001b[39m:\n\u001b[32m     11\u001b[39m \u001b[38;5;250m    \u001b[39m\u001b[33;03m\"\"\"Route to the tools node if the user asks for the menu.\"\"\"\u001b[39;00m\n",
      "\u001b[31mAttributeError\u001b[39m: 'str' object has no attribute 'bind_tools'"
     ]
    }
   ],
   "source": [
    "from langgraph.prebuilt import ToolNode\n",
    "\n",
    "# Define the tools and create a \"tools\" node.\n",
    "tools = [get_menu]\n",
    "tool_node = ToolNode(tools)\n",
    "\n",
    "# Attach the tools to the model so that it knows what it can call.\n",
    "llm_with_tools = llm.bind_tools(tools)\n",
    "\n",
    "def maybe_route_to_tools(state: OrderState) -> str:\n",
    "    \"\"\"Route to the tools node if the user asks for the menu.\"\"\"\n",
    "    if not (msg:= state.get[\"messages\"], [1]):\n",
    "        raise ValueError(f\"No message found in state when parsing state: {state}\")\n",
    "    # Only route based on the last message.\n",
    "    msg = msg[-1]\n",
    "\n",
    "    # When the chatbot returns tool_calls, route to the \"tools\" node.\n",
    "    if hasattr(msg, \"tool_calls\") and len(msg.tool_calls) > 0:\n",
    "        return \"tools\"\n",
    "    else:\n",
    "        return \"chatbot\"\n",
    "    \n"
   ]
  },
  {
   "cell_type": "code",
   "execution_count": 10,
   "id": "2e1e8f14-dd02-4399-b508-cde618deb1da",
   "metadata": {},
   "outputs": [
    {
     "ename": "NameError",
     "evalue": "name 'bind_tools' is not defined",
     "output_type": "error",
     "traceback": [
      "\u001b[31m---------------------------------------------------------------------------\u001b[39m",
      "\u001b[31mNameError\u001b[39m                                 Traceback (most recent call last)",
      "\u001b[36mCell\u001b[39m\u001b[36m \u001b[39m\u001b[32mIn[10]\u001b[39m\u001b[32m, line 1\u001b[39m\n\u001b[32m----> \u001b[39m\u001b[32m1\u001b[39m help(\u001b[43mbind_tools\u001b[49m)\n",
      "\u001b[31mNameError\u001b[39m: name 'bind_tools' is not defined"
     ]
    }
   ],
   "source": [
    "help(bind_tools)"
   ]
  },
  {
   "cell_type": "code",
   "execution_count": null,
   "id": "e660f4a5-a7e9-4264-a65e-e9cdd11cdf91",
   "metadata": {},
   "outputs": [],
   "source": []
  }
 ],
 "metadata": {
  "kernelspec": {
   "display_name": "Python 3 (ipykernel)",
   "language": "python",
   "name": "python3"
  },
  "language_info": {
   "codemirror_mode": {
    "name": "ipython",
    "version": 3
   },
   "file_extension": ".py",
   "mimetype": "text/x-python",
   "name": "python",
   "nbconvert_exporter": "python",
   "pygments_lexer": "ipython3",
   "version": "3.12.1"
  }
 },
 "nbformat": 4,
 "nbformat_minor": 5
}
